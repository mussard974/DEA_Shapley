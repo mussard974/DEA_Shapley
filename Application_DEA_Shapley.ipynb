{
 "cells": [
  {
   "cell_type": "code",
   "execution_count": null,
   "metadata": {},
   "outputs": [],
   "source": [
    "# CEPEJ\n",
    "import pandas as pd\n",
    "import numpy as np\n",
    "cepej = pd.read_excel('cepej_example.xlsx', index_col=0)\n",
    "cepej = cepej.dropna()\n",
    "cepej.head()"
   ]
  },
  {
   "cell_type": "code",
   "execution_count": null,
   "metadata": {},
   "outputs": [],
   "source": [
    "y1 = 1000 - cepej['disposition time'].to_numpy()\n",
    "y2 = cepej['clearance rate'].to_numpy()\n",
    "Y = np.column_stack((y1, y2))\n",
    "X = cepej[[\n",
    "       \"number_judges\",\n",
    "       \"number_no-judges\",\n",
    "       \"Information tools\",\n",
    "       \"Tools of communication\"\n",
    "       ]].to_numpy()"
   ]
  },
  {
   "cell_type": "code",
   "execution_count": null,
   "metadata": {},
   "outputs": [],
   "source": [
    "# Parameters\n",
    "outputs = None\n",
    "g_input = np.ones((X.shape[1]))\n",
    "g_output = np.ones((Y.shape[1]))\n",
    "constraint = \"DRS\""
   ]
  },
  {
   "cell_type": "code",
   "execution_count": null,
   "metadata": {},
   "outputs": [],
   "source": [
    "from Shapley import ShapleyModel\n",
    "model = ShapleyModel(outputs = \"multi-outputs\", constraint = \"DRS\", g_inputs = np.ones((X.shape[1])), g_outputs =np.ones((Y.shape[1])))\n",
    "DDF_results = model.dea_ddf(X,Y)\n",
    "columns = [\"DDF\"]\n",
    "df = pd.DataFrame(DDF_results, cepej.index, columns=columns)\n",
    "df['Rank'] = df['DDF'].rank(ascending=True)\n",
    "display(df)"
   ]
  },
  {
   "cell_type": "code",
   "execution_count": null,
   "metadata": {},
   "outputs": [],
   "source": [
    "df = model.fit(\"shapley\",X,Y)\n",
    "columns = [\n",
    "       \"number_judges\",\n",
    "       \"number_no-judges\",\n",
    "       \"Information tools\",\n",
    "       \"Tools of communication\"\n",
    "       ]\n",
    "contrib_df = pd.DataFrame(df, index = cepej.index, columns = columns)\n",
    "row_sums = contrib_df.sum(axis=1)\n",
    "contrib_pourcentage = contrib_df.div(row_sums, axis=0) * 100\n",
    "print(\"Absolute Contributions:\", \"\\n\")\n",
    "display(contrib_df)\n",
    "print(\"Contributions (%):\", \"\\n\")\n",
    "display(contrib_pourcentage)"
   ]
  },
  {
   "cell_type": "code",
   "execution_count": null,
   "metadata": {},
   "outputs": [],
   "source": [
    "df_ES = model.fit(\"ES\",X,Y)\n",
    "contrib_df_ES = pd.DataFrame(df_ES, index = cepej.index, columns = columns)"
   ]
  },
  {
   "cell_type": "code",
   "execution_count": null,
   "metadata": {},
   "outputs": [],
   "source": [
    "# Plot\n",
    "import matplotlib.pyplot as plt\n",
    "fig, ax = plt.subplots(figsize=(14, 8))\n",
    "width = 0.35  \n",
    "countries = cepej.index\n",
    "for i, input in enumerate(columns):\n",
    "    bar1 = ax.bar(np.arange(len(countries)) - width/2 + i*(width/4), contrib_df[input], width/4, label=f'{input} Shapley')\n",
    "    bar2 = ax.bar(np.arange(len(countries)) + width/2 + i*(width/4), contrib_df_ES[input], width/4, label=f'{input} ES')\n",
    "ax.set_xlabel('Countries')\n",
    "ax.set_ylabel('Values')\n",
    "ax.set_title('Comparison of Shapley and ES')\n",
    "ax.set_xticks(np.arange(len(countries)))\n",
    "ax.set_xticklabels(countries, rotation=90)\n",
    "ax.legend()\n",
    "plt.show()"
   ]
  },
  {
   "cell_type": "code",
   "execution_count": null,
   "metadata": {},
   "outputs": [],
   "source": [
    "df_permutation = model.fit(\"permutation\",X,Y)\n",
    "contrib_df_permutation = pd.DataFrame(df_permutation, index = cepej.index, columns = columns)\n",
    "display(contrib_df_permutation)"
   ]
  }
 ],
 "metadata": {
  "kernelspec": {
   "display_name": "Python 3",
   "language": "python",
   "name": "python3"
  },
  "language_info": {
   "codemirror_mode": {
    "name": "ipython",
    "version": 3
   },
   "file_extension": ".py",
   "mimetype": "text/x-python",
   "name": "python",
   "nbconvert_exporter": "python",
   "pygments_lexer": "ipython3",
   "version": "3.8.8"
  }
 },
 "nbformat": 4,
 "nbformat_minor": 2
}
